{
 "cells": [
  {
   "cell_type": "markdown",
   "metadata": {},
   "source": [
    "### Problem Statement\n",
    "- Write a program to get Name and Age from the user and display Name and Age on the screen.\n",
    "Excepted Results:\n",
    "'Hi name! Your age is Age'"
   ]
  },
  {
   "cell_type": "markdown",
   "metadata": {},
   "source": [
    "#### Algorithm\n",
    "1. step 1: Get Name form user\n",
    "1. step 2: Get Age form user\n",
    "1. Display Name and Age on the screen according to exceptted results."
   ]
  },
  {
   "cell_type": "code",
   "execution_count": 1,
   "metadata": {},
   "outputs": [
    {
     "name": "stdout",
     "output_type": "stream",
     "text": [
      "Hi emran!. Your age is 21\n"
     ]
    }
   ],
   "source": [
    "# \n",
    "name = input(\"Enter your name: \")\n",
    "age = int(input(\"Enter your age: \"))\n",
    "print(f\"Hi {name}!. Your age is {age}\")"
   ]
  },
  {
   "cell_type": "markdown",
   "metadata": {},
   "source": [
    "---\n",
    "### Problem Statement\n",
    "- Write a program to get marks and address form the user and display them on the screen in this format:\n",
    "Expected results:\n",
    "Your address is \"...\" and your marks are \"...\""
   ]
  },
  {
   "cell_type": "markdown",
   "metadata": {},
   "source": [
    "#### Algorithm\n",
    "1. Step 1: get the address form the user\n",
    "1. Step 2: get the marks form the user\n",
    "1. Step 3: Display the address and marks on the screen according to exceptted results"
   ]
  },
  {
   "cell_type": "code",
   "execution_count": 2,
   "metadata": {},
   "outputs": [
    {
     "name": "stdout",
     "output_type": "stream",
     "text": [
      "Your address: sana'a and your marks: sana'a\n"
     ]
    }
   ],
   "source": [
    "address = input(\"Enter your address: \")\n",
    "marks = input(\"Enter your marks: \")\n",
    "print(f\"Your address: {address} and your marks: {marks}\")"
   ]
  }
 ],
 "metadata": {
  "kernelspec": {
   "display_name": "Python 3",
   "language": "python",
   "name": "python3"
  },
  "language_info": {
   "codemirror_mode": {
    "name": "ipython",
    "version": 3
   },
   "file_extension": ".py",
   "mimetype": "text/x-python",
   "name": "python",
   "nbconvert_exporter": "python",
   "pygments_lexer": "ipython3",
   "version": "3.12.1"
  }
 },
 "nbformat": 4,
 "nbformat_minor": 2
}
