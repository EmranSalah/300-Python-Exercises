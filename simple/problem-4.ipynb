{
 "cells": [
  {
   "cell_type": "markdown",
   "metadata": {},
   "source": [
    "### Problem Statement\n",
    "- Write a python program to take age from the user to check whether the user able to participate in voiting or not. If age is less than 18 then it does not allow to participate, and show, after how much year the user will be able to participate:\n",
    "- Expected Results if user age is 10:\n",
    "Sorry!, You cannot participate in voiting, you will be able to participate after 8 years."
   ]
  },
  {
   "cell_type": "markdown",
   "metadata": {},
   "source": [
    "#### Algorithm \n",
    "- Begin\n",
    "1. Step 1: Get age of the user\n",
    "1. Step 2: if (age >= 18), \n",
    "    print \"Hi! username! You can take participation\n",
    "    else, \n",
    "    print \"Sorry! You can not take participation, you will be able to participate after x years\n",
    "End"
   ]
  },
  {
   "cell_type": "code",
   "execution_count": 2,
   "metadata": {},
   "outputs": [
    {
     "name": "stdout",
     "output_type": "stream",
     "text": [
      "Congratulations, you are able to take participation\n"
     ]
    }
   ],
   "source": [
    "\n",
    "age = int(input(\"Enter your age: \"))\n",
    "if (18 >= age):\n",
    "    print(f\"Sorry! You can not take participation, you will be able after {18 - age} years\")\n",
    "else : \n",
    "    print(\"Congratulations, you are able to take participation\")"
   ]
  },
  {
   "cell_type": "markdown",
   "metadata": {},
   "source": [
    "---\n",
    "### Problem Statement\n",
    "- Write a python prgram to take marks for the user to check whether user able to addmission in college or not. If marks are less than 60 then it don't allow to take admission.\n",
    "- Expected Results if user input 50 then:\n",
    "'Sorry, You can not take admission, you need to 10 marks or more to take admission."
   ]
  },
  {
   "cell_type": "markdown",
   "metadata": {},
   "source": [
    "#### Algorith\n",
    "1. Step 1: get marks from the user\n",
    "1. step 2: if (marks <= 60 ), then\n",
    "    print \"Sorry, You can not take admission, you need to x marks to take admission.\n",
    "    else then\n",
    "    print \"congratulations, you can take admission\n",
    "End\n"
   ]
  },
  {
   "cell_type": "code",
   "execution_count": 3,
   "metadata": {},
   "outputs": [
    {
     "name": "stdout",
     "output_type": "stream",
     "text": [
      "Soory!, You can not take admission, you need to 5 or more to take admission.\n"
     ]
    }
   ],
   "source": [
    "marks = int(input(\"enter your marks: \"))\n",
    "if (60 > marks):\n",
    "    print(f\"Soory!, You can not take admission, you need to {60 - marks} or more to take admission.\")\n",
    "else:\n",
    "    print ('Congratulations. You can take admission.')"
   ]
  }
 ],
 "metadata": {
  "kernelspec": {
   "display_name": "Python 3",
   "language": "python",
   "name": "python3"
  },
  "language_info": {
   "codemirror_mode": {
    "name": "ipython",
    "version": 3
   },
   "file_extension": ".py",
   "mimetype": "text/x-python",
   "name": "python",
   "nbconvert_exporter": "python",
   "pygments_lexer": "ipython3",
   "version": "3.12.1"
  }
 },
 "nbformat": 4,
 "nbformat_minor": 2
}
