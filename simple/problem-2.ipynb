{
 "cells": [
  {
   "cell_type": "markdown",
   "metadata": {},
   "source": [
    "### Problem Statement\n",
    "- Write a python program to calculate the area of circle using formula PI *r^2"
   ]
  },
  {
   "cell_type": "markdown",
   "metadata": {},
   "source": [
    "### Algorithm\n",
    "1. step 1: get the radius of the circle form user\n",
    "1. Step 2: Put the radius of the circle in the formula to calculate the area of circle\n",
    "1. Step 3: Display the area of the circle to user\n",
    "End ================================================================="
   ]
  },
  {
   "cell_type": "code",
   "execution_count": 1,
   "metadata": {},
   "outputs": [
    {
     "name": "stdout",
     "output_type": "stream",
     "text": [
      "area of circle: 314.0\n"
     ]
    }
   ],
   "source": [
    "# Get area of the circle\n",
    "radius = float(input(\"Enter the radius of the circle: \"))\n",
    "PI = 3.14\n",
    "area = PI * radius ** 2\n",
    "print(f\"area of circle: {area}\")"
   ]
  },
  {
   "cell_type": "markdown",
   "metadata": {},
   "source": [
    "----\n",
    "- Write a python program to calculate the area of th rectangle using the formula (A * B)\n"
   ]
  },
  {
   "cell_type": "markdown",
   "metadata": {},
   "source": [
    "### Algorithm\n",
    "1. step 1: get width and height of the rectangle form user\n",
    "1. Step 2: Put the width and height of the rectangle in the formula to calculate the area of rectangle\n",
    "1. Step 3: Display the area of the rectangle to user\n",
    "End \n",
    "---"
   ]
  },
  {
   "cell_type": "code",
   "execution_count": 3,
   "metadata": {},
   "outputs": [
    {
     "name": "stdout",
     "output_type": "stream",
     "text": [
      "10100.0\n"
     ]
    }
   ],
   "source": [
    "# Get width and height of the rectangle\n",
    "width = float(input(\"Enter the width of the rectangle\"))\n",
    "height = float(input(\"Enter the height of the rectangle\"))\n",
    "area = width * height\n",
    "print(area)\n"
   ]
  }
 ],
 "metadata": {
  "kernelspec": {
   "display_name": "Python 3",
   "language": "python",
   "name": "python3"
  },
  "language_info": {
   "codemirror_mode": {
    "name": "ipython",
    "version": 3
   },
   "file_extension": ".py",
   "mimetype": "text/x-python",
   "name": "python",
   "nbconvert_exporter": "python",
   "pygments_lexer": "ipython3",
   "version": "3.12.1"
  }
 },
 "nbformat": 4,
 "nbformat_minor": 2
}
