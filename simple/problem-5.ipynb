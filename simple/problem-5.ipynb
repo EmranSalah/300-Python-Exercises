{
 "cells": [
  {
   "cell_type": "markdown",
   "metadata": {},
   "source": [
    "### Problem Statement\n",
    "- Write a program that preforms all arithmetic operation s on two variables"
   ]
  },
  {
   "cell_type": "markdown",
   "metadata": {},
   "source": [
    "#### Algorithm\n",
    "1. Step 1: Get two numbers form the user\n",
    "1. Step 2: Perform addition on two numbers and disoplay to user.\n",
    "1. Step 3: Perform multiplication on two numbers and disoplay to user\n",
    "1. Step 4: Perform division on two numbers and disoplay to user\n",
    "1. Step 5: Perform subtraction on two numbers and disoplay to user\n",
    "End\n"
   ]
  },
  {
   "cell_type": "code",
   "execution_count": 1,
   "metadata": {},
   "outputs": [
    {
     "name": "stdout",
     "output_type": "stream",
     "text": [
      "--------------------------------\n",
      "Addition        : number 1 + number 2 = 30.0\n",
      "Subtraction     : number 1 - number 2 = -10.0\n",
      "Multiplication  : number 1 * number 2 = 200.0\n",
      "Division        : number 1 / number 2 = 0.5\n"
     ]
    }
   ],
   "source": [
    "number1 = float(input(\"Entre number one\"))\n",
    "number2 = float(input(\"Entre number two\"))\n",
    "\n",
    "print(\"--------------------------------\")\n",
    "print(f\"Addition        : number 1 + number 2 = {number1 + number2}\")\n",
    "print(f\"Subtraction     : number 1 - number 2 = {number1 - number2}\")\n",
    "print(f\"Multiplication  : number 1 * number 2 = {number1 * number2}\")\n",
    "print(f\"Division        : number 1 / number 2 = {number1 / number2}\")\n"
   ]
  },
  {
   "cell_type": "markdown",
   "metadata": {},
   "source": [
    "---\n",
    "### Problem Statement\n",
    "- Write a python program that performs all arithmetic operations on three variables"
   ]
  },
  {
   "cell_type": "markdown",
   "metadata": {},
   "source": [
    "#### Algorithm\n",
    "1. Step 1: Get three numbers form the user\n",
    "1. Step 2: Perform addition on three numbers and disoplay to user.\n",
    "1. Step 3: Perform multiplication on three numbers and disoplay to user\n",
    "1. Step 4: Perform division on three numbers and disoplay to user\n",
    "1. Step 5: Perform subtraction on three numbers and disoplay to user\n",
    "End\n"
   ]
  },
  {
   "cell_type": "code",
   "execution_count": 2,
   "metadata": {},
   "outputs": [
    {
     "name": "stdout",
     "output_type": "stream",
     "text": [
      "--------------------------------\n",
      "Addition        : number 1 + number 2 = 40.0\n",
      "Subtraction     : number 1 - number 2 = -20.0\n",
      "Multiplication  : number 1 * number 2 = 2000.0\n",
      "Division        : number 1 / number 2 = 0.05\n"
     ]
    }
   ],
   "source": [
    "number1 = float(input(\"Entre number one\"))\n",
    "number2 = float(input(\"Entre number two\"))\n",
    "number3 = float(input(\"Entre number three\"))\n",
    "\n",
    "print(\"--------------------------------\")\n",
    "print(f\"Addition        : number 1 + number 2 = {number1 + number2 + number3}\")\n",
    "print(f\"Subtraction     : number 1 - number 2 = {number1 - number2 - number3}\")\n",
    "print(f\"Multiplication  : number 1 * number 2 = {number1 * number2 * number3}\")\n",
    "print(f\"Division        : number 1 / number 2 = {number1 / number2 / number3}\")"
   ]
  }
 ],
 "metadata": {
  "kernelspec": {
   "display_name": "Python 3",
   "language": "python",
   "name": "python3"
  },
  "language_info": {
   "codemirror_mode": {
    "name": "ipython",
    "version": 3
   },
   "file_extension": ".py",
   "mimetype": "text/x-python",
   "name": "python",
   "nbconvert_exporter": "python",
   "pygments_lexer": "ipython3",
   "version": "3.12.1"
  }
 },
 "nbformat": 4,
 "nbformat_minor": 2
}
